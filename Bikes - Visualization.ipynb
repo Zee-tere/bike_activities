{
 "cells": [
  {
   "cell_type": "markdown",
   "metadata": {
    "slideshow": {
     "slide_type": "slide"
    }
   },
   "source": [
    "# Effects of Gender on distance and duration of bike usage"
   ]
  },
  {
   "cell_type": "markdown",
   "metadata": {
    "slideshow": {
     "slide_type": "slide"
    }
   },
   "source": [
    "## Investigation Overview\n",
    "\n",
    "In this investigation, I will be looking at how gender affects duration of use and distance covered during the usage of the bikes.\n",
    "\n",
    "## Dataset Overview\n",
    "\n",
    "The data consisted of data on 183,412 bikes. The features incuded the duration sec, start time, end time, start station id, start station name, start station latitude, start station longitude, end station id, end station name, end station latitude, end station longitude, bike id, user type, member birth year, member gender, bike share for all trip. One row was removed from the data for inconsistent information. "
   ]
  },
  {
   "cell_type": "code",
   "execution_count": 1,
   "metadata": {
    "slideshow": {
     "slide_type": "skip"
    }
   },
   "outputs": [],
   "source": [
    "# import all packages and set plots to be embedded inline\n",
    "import numpy as np\n",
    "import pandas as pd\n",
    "import matplotlib.pyplot as plt\n",
    "import seaborn as sb\n",
    "%matplotlib inline\n",
    "\n",
    "# suppress warnings from final output\n",
    "import warnings\n",
    "warnings.simplefilter(\"ignore\")"
   ]
  },
  {
   "cell_type": "code",
   "execution_count": 2,
   "metadata": {
    "slideshow": {
     "slide_type": "skip"
    }
   },
   "outputs": [],
   "source": [
    "# load in the dataset into a pandas dataframe, assign to a variable\n",
    "bikes = pd.read_csv(\"201902-fordgobike-tripdata.csv\")"
   ]
  },
  {
   "cell_type": "code",
   "execution_count": 3,
   "metadata": {
    "slideshow": {
     "slide_type": "skip"
    }
   },
   "outputs": [],
   "source": [
    "# data wrangling, removing nul values\n",
    "bikes.dropna(axis = 0, inplace = True )"
   ]
  },
  {
   "cell_type": "code",
   "execution_count": 4,
   "metadata": {
    "slideshow": {
     "slide_type": "skip"
    }
   },
   "outputs": [],
   "source": [
    "# data wrangling, removing bikes with incorrect data\n",
    "incorrect_dates = bikes[bikes.member_birth_year <= 1900].index\n",
    "bikes.drop(incorrect_dates, axis = 0, inplace = True)"
   ]
  },
  {
   "cell_type": "code",
   "execution_count": 5,
   "metadata": {
    "slideshow": {
     "slide_type": "skip"
    }
   },
   "outputs": [],
   "source": [
    "#create \"Distance\" column\n",
    "#first I assin all needed columns to a variable\n",
    "\n",
    "start_lat = bikes[\"start_station_latitude\"]\n",
    "stat_long = bikes[\"start_station_longitude\"]\n",
    "end_long = bikes[\"end_station_longitude\"]\n",
    "end_lat = bikes[\"end_station_latitude\"]"
   ]
  },
  {
   "cell_type": "code",
   "execution_count": 6,
   "metadata": {
    "slideshow": {
     "slide_type": "skip"
    }
   },
   "outputs": [],
   "source": [
    "#create a function to derive the distance in KM (Using Haversine) between the start and end using the longitude and latitude provided in the dataset.\n",
    "\n",
    "def Haversine(lat1,lon1,lat2,lon2, **kwarg):\n",
    "    \"\"\"\n",
    "    This uses the ‘haversine’ formula to calculate the great-circle distance between two points – that is, \n",
    "    the shortest distance over the earth’s surface – giving an ‘as-the-crow-flies’ distance between the points \n",
    "    (ignoring any hills they fly over, of course!).\n",
    "    Haversine\n",
    "    formula:    a = sin²(Δφ/2) + cos φ1 ⋅ cos φ2 ⋅ sin²(Δλ/2)\n",
    "    c = 2 ⋅ atan2( √a, √(1−a) )\n",
    "    d = R ⋅ c\n",
    "    where   φ is latitude, λ is longitude, R is earth’s radius (mean radius = 6,371km);\n",
    "    note that angles need to be in radians to pass to trig functions!\n",
    "    \"\"\"\n",
    "    R = 6371.0088\n",
    "    lat1,lon1,lat2,lon2 = map(np.radians, [lat1,lon1,lat2,lon2])\n",
    "\n",
    "    lat = lat2 - lat1\n",
    "    lon = lon2 - lon1\n",
    "    a = np.sin(lat/2)**2 + np.cos(lat1) * np.cos(lat2) * np.sin(lon/2) **2\n",
    "    c = 2 * np.arctan2(a**0.5, (1-a)**0.5)\n",
    "    d = R * c\n",
    "    return round(d,4)\n",
    "\n",
    "#run the function and add as a column to the dataframe \n",
    "distance_km = Haversine(start_lat,stat_long,end_lat,end_long)\n",
    "bikes.insert(0, \"Distance_km\", distance_km)"
   ]
  },
  {
   "cell_type": "markdown",
   "metadata": {
    "slideshow": {
     "slide_type": "slide"
    }
   },
   "source": [
    "## Distribution of Gender\n",
    "\n",
    "The gender categories in the bikes dataset are; Male, Female and Other. Plotted using seaborn and maintaing the default color variations. Men are by a large margin of over 80,000 more then the women and the \"other \" gender is the least of the 3."
   ]
  },
  {
   "cell_type": "code",
   "execution_count": 7,
   "metadata": {
    "slideshow": {
     "slide_type": "subslide"
    }
   },
   "outputs": [
    {
     "data": {
      "image/png": "[encoded data removed]",
      "text/plain": [
       "<Figure size 432x288 with 1 Axes>"
      ]
     },
     "metadata": {
      "needs_background": "light"
     },
     "output_type": "display_data"
    }
   ],
   "source": [
    "sb.countplot(data = bikes, x = 'member_gender').set_title('Gender Distribution');"
   ]
  },
  {
   "cell_type": "markdown",
   "metadata": {
    "slideshow": {
     "slide_type": "slide"
    }
   },
   "source": [
    "# Distribution of Distance\n",
    "\n",
    "Distance was derived using Haversine. It was done with data provided in the longitude and latitude columns provided in the dataset. The distance was calculated in KM and plotted on a small binsize in order to cover for the large variations in the dataset. It shows that most users covered between 1-2KMS with very few users covering more than 5KM"
   ]
  },
  {
   "cell_type": "code",
   "execution_count": 9,
   "metadata": {
    "slideshow": {
     "slide_type": "subslide"
    }
   },
   "outputs": [
    {
     "data": {
      "image/png": "[encoded data removed]",
      "text/plain": [
       "<Figure size 792x360 with 1 Axes>"
      ]
     },
     "metadata": {
      "needs_background": "light"
     },
     "output_type": "display_data"
    }
   ],
   "source": [
    "binsize = 0.013\n",
    "bins = np.arange(0.1, bikes['Distance_km'].max()+10, 0.01)\n",
    "\n",
    "plt.figure(figsize=[11, 5])\n",
    "plt.hist(data = bikes, x = 'Distance_km', bins = bins)\n",
    "plt.xlim([0,10])\n",
    "plt.xlabel('Distance km')\n",
    "plt.ylabel('count')\n",
    "plt.title(\"Distribution of Distance\")\n",
    "plt.show()"
   ]
  },
  {
   "cell_type": "markdown",
   "metadata": {
    "collapsed": true,
    "slideshow": {
     "slide_type": "slide"
    }
   },
   "source": [
    "## Distribution of Duration\n",
    "\n",
    "The duration travelled by each biker was recorded in seconds and plotted on a log-scale. It shows a perfect slope between 150 Seconds and 2,500 seconds."
   ]
  },
  {
   "cell_type": "code",
   "execution_count": 8,
   "metadata": {
    "slideshow": {
     "slide_type": "subslide"
    }
   },
   "outputs": [
    {
     "data": {
      "image/png": "[encoded data removed]",
      "text/plain": [
       "<Figure size 576x288 with 1 Axes>"
      ]
     },
     "metadata": {
      "needs_background": "light"
     },
     "output_type": "display_data"
    }
   ],
   "source": [
    "\n",
    "log_binsize = 0.0125\n",
    "bins = 7 ** np.arange(2.5, np.log10(bikes['duration_sec'].max()+10)+log_binsize, log_binsize)\n",
    "\n",
    "plt.figure(figsize=[8,4])\n",
    "plt.hist(data = bikes, x = 'duration_sec', bins = bins )\n",
    "plt.xscale('log')\n",
    "plt.xticks([120, 500,1000, 2500, 5000, 10000, 20000, 40000], [120, '500', '1000', \"2.5k\", '5k','10k', '20k', '40k'])\n",
    "plt.xlabel('Duration sec')\n",
    "plt.ylabel('count')\n",
    "plt.title(\"Distribution of Duration\")\n",
    "plt.show()"
   ]
  },
  {
   "cell_type": "markdown",
   "metadata": {
    "slideshow": {
     "slide_type": "slide"
    }
   },
   "source": [
    "## Distance and Duration by Gender\n",
    "\n",
    "The scatterplot was plotted with seaborn and I made use of 500 random samples to get a clearer result.\n",
    "There are more men who travel longer distances and spend more time on the bikes than women or the other Gender. Women are clustered between 0 - 3 KMs and 0 - 1000 seconds. The reationship between gender and distance or duration conforms to the traditional sterotype that favours more activities from the men. The other Gender show little or no concentration to a particular range owing to their small size, but their dominance in previous illustrations of gender against distance will be because the few that were involved actually covered large distances and spent long periods.\n",
    "As the distance incresed the duration also increased."
   ]
  },
  {
   "cell_type": "code",
   "execution_count": 8,
   "metadata": {
    "slideshow": {
     "slide_type": "subslide"
    }
   },
   "outputs": [
    {
     "data": {
      "image/png": "[encoded data removed]",
      "text/plain": [
       "<Figure size 432.125x360 with 1 Axes>"
      ]
     },
     "metadata": {
      "needs_background": "light"
     },
     "output_type": "display_data"
    }
   ],
   "source": [
    "samp = bikes.sample(500)\n",
    "comp = sb.FacetGrid(data = samp, hue = \"member_gender\", size = 5)\n",
    "comp.map(sb.scatterplot,\"Distance_km\", \"duration_sec\").set(title = \"Distance and Duration by Gender\")\n",
    "comp.add_legend(title = \"Gender\");"
   ]
  },
  {
   "cell_type": "code",
   "execution_count": null,
   "metadata": {},
   "outputs": [],
   "source": [
    "!jupyter nbconvert Ude_Fortune_Part2.ipynb --to slides --post serve --no-input --no-prompt"
   ]
  },
  {
   "cell_type": "code",
   "execution_count": null,
   "metadata": {},
   "outputs": [],
   "source": []
  },
  {
   "cell_type": "code",
   "execution_count": null,
   "metadata": {},
   "outputs": [],
   "source": []
  }
 ],
 "metadata": {
  "celltoolbar": "Slideshow",
  "kernelspec": {
   "display_name": "Python 3 (ipykernel)",
   "language": "python",
   "name": "python3"
  },
  "language_info": {
   "codemirror_mode": {
    "name": "ipython",
    "version": 3
   },
   "file_extension": ".py",
   "mimetype": "text/x-python",
   "name": "python",
   "nbconvert_exporter": "python",
   "pygments_lexer": "ipython3",
   "version": "3.7.13"
  }
 },
 "nbformat": 4,
 "nbformat_minor": 2
}
